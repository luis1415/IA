{
 "cells": [
  {
   "cell_type": "markdown",
   "metadata": {},
   "source": [
    "# Algoritmos de búsqueda no informada "
   ]
  },
  {
   "cell_type": "markdown",
   "metadata": {},
   "source": [
    "## Dibujar los grafos con python"
   ]
  },
  {
   "cell_type": "code",
   "execution_count": null,
   "metadata": {},
   "outputs": [],
   "source": [
    "import pygraphviz as pgv\n",
    "\n",
    "G = pgv.AGraph(directed=True)\n",
    "G.add_nodes_from(range(1,9))\n",
    "G.add_edges_from([(1,2),(1,3),(2,4),(3,6),(4,5),(4,6),(5,7),(5,8)])\n",
    "G.layout()\n",
    "G.draw('graph.png')\n",
    "\n"
   ]
  },
  {
   "cell_type": "markdown",
   "metadata": {},
   "source": [
    "![Con titulo](graph.png \"grafo de numeros\")"
   ]
  },
  {
   "cell_type": "code",
   "execution_count": null,
   "metadata": {},
   "outputs": [],
   "source": [
    "graph = {'A': ['B', 'C'],\n",
    "         'B': ['C', 'D'],\n",
    "         'C': ['D'],\n",
    "         'D': ['C'],\n",
    "         'E': ['F'],\n",
    "         'F': ['C']}\n",
    "\n",
    "H = pgv.AGraph(graph, directed=True)\n",
    "H.layout()\n",
    "H.draw('graph_2.png')\n"
   ]
  },
  {
   "cell_type": "markdown",
   "metadata": {},
   "source": [
    "![Con titulo](graph_2.png \"grafo de numeros\")"
   ]
  },
  {
   "cell_type": "markdown",
   "metadata": {},
   "source": [
    "\n",
    "\n",
    "## Búsqueda primero en amplitud (BFS Breadth First Search)"
   ]
  },
  {
   "cell_type": "code",
   "execution_count": null,
   "metadata": {},
   "outputs": [],
   "source": [
    "def paths(graph, start, end):\n",
    "    \"\"\"\n",
    "    Esta función encuentra los caminos del algoritmo de búsqueda primero en amplitud\n",
    "    :param graph: el grafo en forma de diccionario\n",
    "    :param start: el nodo inicio en el grafo\n",
    "    :param end: el nodo fin en el grafo\n",
    "    :return: genera la lista de caminos.    \n",
    "    \"\"\"\n",
    "    todo = [[start, [start]]]\n",
    "    while 0 < len(todo):\n",
    "        (node, path) = todo.pop(0)\n",
    "        for next_node in graph[node]:\n",
    "            if next_node in path:\n",
    "                continue\n",
    "            elif next_node == end:\n",
    "                yield path + [next_node]\n",
    "            else:\n",
    "                todo.append([next_node, path + [next_node]])\n",
    "\n",
    "graph = {'A': ['B', 'C'],\n",
    "         'B': ['C', 'D'],\n",
    "         'C': ['D'],\n",
    "         'D': ['C'],\n",
    "         'E': ['F'],\n",
    "         'F': ['C']}\n",
    "\n",
    "for path in paths(graph, 'A', 'D'):\n",
    "    print path"
   ]
  },
  {
   "cell_type": "code",
   "execution_count": null,
   "metadata": {},
   "outputs": [],
   "source": [
    "# ejemplo de como funciona el algoritmo de búsqueda primero por amplitud\n",
    "\n",
    "def amplitud(grafo, inicio, fin):\n",
    "    \"\"\"\n",
    "    Esta función muestra el proceso del algoritmo de búsqueda primero en amplitud (FIFO)\n",
    "    :param grafo: el grafo en forma de diccionario\n",
    "    :param inicio: el nodo inicio en el grafo\n",
    "    :param fin: el nodo fin en el grafo\n",
    "    :return: la lista final.    \n",
    "    \"\"\"\n",
    "    fifo = [inicio]\n",
    "    print(fifo)\n",
    "    while len(fifo) > 0:\n",
    "        ex = fifo.pop(0)\n",
    "        for n in grafo[ex]:\n",
    "            if n in fifo:\n",
    "                continue\n",
    "            else:\n",
    "                fifo.append(n)\n",
    "        print(fifo)\n",
    "        if fin in fifo:\n",
    "            return fifo\n",
    "        \n",
    "        \n",
    "graph = {'A': ['B', 'C'],\n",
    "         'B': ['C', 'D'],\n",
    "         'C': ['D'],\n",
    "         'D': ['C'],\n",
    "         'E': ['F'],\n",
    "         'F': ['C']}\n",
    "\n",
    "f = amplitud(graph, 'A', 'D')\n",
    "\n",
    "# recordar el pep8 y el docstring - print(amplitud.__doc__)"
   ]
  },
  {
   "cell_type": "markdown",
   "metadata": {},
   "source": [
    "## Búsqueda primero en profundidad (DFS Depth First Search)"
   ]
  },
  {
   "cell_type": "code",
   "execution_count": null,
   "metadata": {},
   "outputs": [],
   "source": [
    "graph = {'A': ['B', 'C'],\n",
    "         'B': ['C', 'D'],\n",
    "         'C': ['D'],\n",
    "         'D': ['C'],\n",
    "         'E': ['F'],\n",
    "         'F': ['C']}"
   ]
  },
  {
   "cell_type": "code",
   "execution_count": null,
   "metadata": {},
   "outputs": [],
   "source": [
    "def find_path(graph, start, end, path=[]):\n",
    "    path = path + [start]\n",
    "    if start == end:\n",
    "        return path\n",
    "    if not graph.has_key(start):\n",
    "        return None\n",
    "    for node in graph[start]:\n",
    "        if node not in path:\n",
    "            newpath = find_path(graph, node, end, path)\n",
    "            if newpath: return newpath\n",
    "    return None"
   ]
  },
  {
   "cell_type": "code",
   "execution_count": null,
   "metadata": {},
   "outputs": [],
   "source": [
    "find_path(graph, 'A', 'D')"
   ]
  },
  {
   "cell_type": "code",
   "execution_count": null,
   "metadata": {},
   "outputs": [],
   "source": [
    "def find_all_paths(graph, start, end, path=[]):\n",
    "    path = path + [start]\n",
    "    if start == end:\n",
    "        return [path]\n",
    "    if not graph.has_key(start):\n",
    "        return []\n",
    "    paths = []\n",
    "    for node in graph[start]:\n",
    "        if node not in path:\n",
    "            newpaths = find_all_paths(graph, node, end, path)\n",
    "            for newpath in newpaths:\n",
    "                paths.append(newpath)\n",
    "    return paths"
   ]
  },
  {
   "cell_type": "code",
   "execution_count": null,
   "metadata": {},
   "outputs": [],
   "source": [
    "find_all_paths(graph, 'A', 'D')"
   ]
  },
  {
   "cell_type": "code",
   "execution_count": null,
   "metadata": {},
   "outputs": [],
   "source": [
    "def profundidad(grafo, inicio, fin):\n",
    "    \"\"\"\n",
    "    Esta función muestra el proceso del algoritmo de búsqueda primero en profundidad (LIFO)\n",
    "    :param grafo: el grafo en forma de diccionario\n",
    "    :param inicio: el nodo inicio en el grafo\n",
    "    :param fin: el nodo fin en el grafo\n",
    "    :return: la lista final.    \n",
    "    \"\"\"\n",
    "    fifo = [inicio]\n",
    "    print(fifo)\n",
    "    while len(fifo) > 0:\n",
    "        ex = fifo.pop(-1)\n",
    "        for n in grafo[ex]:\n",
    "            if n in fifo:\n",
    "                continue\n",
    "            else:\n",
    "                fifo.append(n)\n",
    "        print(fifo)\n",
    "        if fin in fifo:\n",
    "            return fifo\n",
    "        \n",
    "        \n",
    "graph = {'A': ['B', 'C'],\n",
    "         'B': ['C', 'D'],\n",
    "         'C': ['D'],\n",
    "         'D': ['C'],\n",
    "         'E': ['F'],\n",
    "         'F': ['C']}\n",
    "\n",
    "f = amplitud(graph, 'A', 'D')"
   ]
  },
  {
   "cell_type": "code",
   "execution_count": null,
   "metadata": {},
   "outputs": [],
   "source": []
  }
 ],
 "metadata": {
  "kernelspec": {
   "display_name": "Python 3",
   "language": "python",
   "name": "python3"
  },
  "language_info": {
   "codemirror_mode": {
    "name": "ipython",
    "version": 2
   },
   "file_extension": ".py",
   "mimetype": "text/x-python",
   "name": "python",
   "nbconvert_exporter": "python",
   "pygments_lexer": "ipython2",
   "version": "2.7.14"
  }
 },
 "nbformat": 4,
 "nbformat_minor": 2
}
